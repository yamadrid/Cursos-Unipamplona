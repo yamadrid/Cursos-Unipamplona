{
  "nbformat": 4,
  "nbformat_minor": 0,
  "metadata": {
    "colab": {
      "name": "Recursividad.ipynb",
      "provenance": [],
      "authorship_tag": "ABX9TyOclK8ljfTZynlchHQfqaJ+",
      "include_colab_link": true
    },
    "kernelspec": {
      "name": "python3",
      "display_name": "Python 3"
    }
  },
  "cells": [
    {
      "cell_type": "markdown",
      "metadata": {
        "id": "view-in-github",
        "colab_type": "text"
      },
      "source": [
        "<a href=\"https://colab.research.google.com/github/yamadrid/Cursos-Unipamplona/blob/main/Recursividad.ipynb\" target=\"_parent\"><img src=\"https://colab.research.google.com/assets/colab-badge.svg\" alt=\"Open In Colab\"/></a>"
      ]
    },
    {
      "cell_type": "markdown",
      "metadata": {
        "id": "bL5F0MT6nx_H"
      },
      "source": [
        "#Recursividad"
      ]
    },
    {
      "cell_type": "markdown",
      "metadata": {
        "id": "LankP_1OoPwQ"
      },
      "source": [
        "\n",
        "Se denomina llamada recursiva (o recursividad), a aquellas funciones que en su algoritmo, hacen referencia sí misma.\n",
        "\n",
        "Las llamadas recursivas suelen ser muy útiles en casos muy puntuales, pero debido a su gran factibilidad de caer en iteraciones infinitas, deben extremarse las medidas preventivas adecuadas y, solo utilizarse cuando sea estrictamente necesario y no exista una forma alternativa viable, que resuelva el problema evitando la recursividad.\n",
        "\n",
        "Python admite las llamadas recursivas, permitiendo a una función, llamarse a sí misma, de igual forma que lo hace cuando llama a otra función."
      ]
    },
    {
      "cell_type": "markdown",
      "metadata": {
        "id": "UAwsUUsPqHy-"
      },
      "source": [
        "##Ejemplos"
      ]
    },
    {
      "cell_type": "markdown",
      "metadata": {
        "id": "WcLWaR5avZez"
      },
      "source": [
        "1. Haga una función recursiva de tal manera que calcule el factorial de un número entero dado, de acuerdo a las siguientes reglas:\n",
        "\n",
        "![image.png](data:image/png;base64,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)"
      ]
    },
    {
      "cell_type": "code",
      "metadata": {
        "id": "SawDcoTLnT0V"
      },
      "source": [
        "def factorial(numero):\n",
        "  if numero > 1:\n",
        "    numero = numero * factorial(numero -1)\n",
        "  return numero\n",
        "\n",
        "f = factorial(5)\n",
        "print(f)"
      ],
      "execution_count": null,
      "outputs": []
    },
    {
      "cell_type": "markdown",
      "metadata": {
        "id": "kETOR3eRqKGs"
      },
      "source": [
        "2. Hacer una función que dado un número natural n encuentre su raíz digital.\n",
        "\n",
        "  La raíz digital de un natural n se obtiene calculando el natural m sumando los dígitos que componen al número n. El proceso se repite sobre el nuevo número hasta que el resultado sea de un dígito.\n",
        "\n",
        "  Ejemplo: 347 $\\rightarrow$ 3 + 4 + 7 $\\rightarrow$ 1 + 4 = 5 $\\rightarrow$ RD(347)=5\n",
        "\n",
        "  Nota: utilice las funciones “div” y “mod” que sirven para calcular la división entera y el residuo\n",
        "de la división entera."
      ]
    },
    {
      "cell_type": "code",
      "metadata": {
        "id": "U6r30-YlqVqx"
      },
      "source": [
        "def suma_digitos(n):\n",
        "    r = 0\n",
        "\n",
        "    if (n>0):\n",
        "      r += (n % 10) + suma_digitos(n//10)\n",
        "\n",
        "    return r\n",
        "\n",
        "def raiz_digital(n):\n",
        "  if n >= 10:\n",
        "    n = suma_digitos(n)\n",
        "    n = raiz_digital(n)\n",
        "  \n",
        "  return n\n",
        "\n",
        "r = raiz_digital(347)\n",
        "\n",
        "print(r)    "
      ],
      "execution_count": null,
      "outputs": []
    }
  ]
}