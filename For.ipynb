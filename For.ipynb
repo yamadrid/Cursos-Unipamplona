{
  "nbformat": 4,
  "nbformat_minor": 0,
  "metadata": {
    "colab": {
      "name": "For.ipynb",
      "provenance": [],
      "authorship_tag": "ABX9TyMDj+fc87bIa/XR2OaDoQmQ",
      "include_colab_link": true
    },
    "kernelspec": {
      "name": "python3",
      "display_name": "Python 3"
    }
  },
  "cells": [
    {
      "cell_type": "markdown",
      "metadata": {
        "id": "view-in-github",
        "colab_type": "text"
      },
      "source": [
        "<a href=\"https://colab.research.google.com/github/yamadrid/Cursos-Unipamplona/blob/main/For.ipynb\" target=\"_parent\"><img src=\"https://colab.research.google.com/assets/colab-badge.svg\" alt=\"Open In Colab\"/></a>"
      ]
    },
    {
      "cell_type": "markdown",
      "metadata": {
        "id": "y_Gv9tdxEhV1"
      },
      "source": [
        "#Bucle For"
      ]
    },
    {
      "cell_type": "markdown",
      "metadata": {
        "id": "vzg5daY-EnvA"
      },
      "source": [
        "En general, un bucle es una estructura de control que repite un bloque de instrucciones. Un bucle for es un bucle que repite el bloque de instrucciones un número prederminado de veces. El bloque de instrucciones que se repite se suele llamar cuerpo del bucle y cada repetición se suele llamar iteración.\n",
        "\n",
        "La sintaxis de un bucle for es la siguiente:"
      ]
    },
    {
      "cell_type": "markdown",
      "metadata": {
        "id": "-4u9JyR-m0n-"
      },
      "source": [
        "```\n",
        "for variable in elemento iterable (lista, cadena, range, etc.):\n",
        "    cuerpo del bucle\n",
        "```\n"
      ]
    },
    {
      "cell_type": "markdown",
      "metadata": {
        "id": "LLX7euJBnEzo"
      },
      "source": [
        "No es necesario definir la variable de control antes del bucle, aunque se puede utilizar como variable de control una variable ya definida en el programa."
      ]
    },
    {
      "cell_type": "markdown",
      "metadata": {
        "id": "PknfJ4hsnF2Y"
      },
      "source": [
        "El cuerpo del bucle se ejecuta tantas veces como elementos tenga el elemento recorrible (elementos de una lista o de un `range()`, caracteres de una cadena, etc.). Por ejemplo:"
      ]
    },
    {
      "cell_type": "code",
      "metadata": {
        "id": "aunwpCpdEfZa"
      },
      "source": [
        "print(\"Comienzo\")\n",
        "for i in [0, 1, 2]:\n",
        "    print(\"Hola \")\n",
        "print(\"Final\")"
      ],
      "execution_count": null,
      "outputs": []
    },
    {
      "cell_type": "markdown",
      "metadata": {
        "id": "TYipmEH2nYJ-"
      },
      "source": [
        "Si la lista está vacía, el bucle no se ejecuta ninguna vez. Por ejemplo:"
      ]
    },
    {
      "cell_type": "code",
      "metadata": {
        "id": "KVKpj2YLnaxZ"
      },
      "source": [
        "print(\"Comienzo\")\n",
        "for i in []:\n",
        "    print(\"Hola \")\n",
        "print(\"Final\")"
      ],
      "execution_count": null,
      "outputs": []
    },
    {
      "cell_type": "markdown",
      "metadata": {
        "id": "4Sa3MNm8nlvb"
      },
      "source": [
        "En el primer ejemplo, los valores que toma la variable no son importantes, lo que importa es que la lista tiene tres elementos y por tanto el bucle se ejecuta tres veces. El siguiente programa produciría el mismo resultado que el anterior:"
      ]
    },
    {
      "cell_type": "code",
      "metadata": {
        "id": "cRmg9r5hnmiO"
      },
      "source": [
        "print(\"Comienzo\")\n",
        "for i in [1, 1, 1]:\n",
        "    print(\"Hola \")\n",
        "print(\"Final\")"
      ],
      "execution_count": null,
      "outputs": []
    },
    {
      "cell_type": "markdown",
      "metadata": {
        "id": "8o8EZ9Efnx12"
      },
      "source": [
        "Si la variable de control no se va a utilizar en el cuerpo del bucle, como en los ejemplos anteriores, se puede utilizar el guion (_) en vez de un nombre de variable. Esta notación no tiene ninguna consecuencia con respecto al funcionamiento del programa, pero sirve de ayuda a la persona que esté leyendo el código fuente, que sabe así que los valores no se van a utilizar. Por ejemplo:"
      ]
    },
    {
      "cell_type": "code",
      "metadata": {
        "id": "SWAB3SJBn03V"
      },
      "source": [
        "print(\"Comienzo\")\n",
        "for _ in [0, 1, 2]:\n",
        "    print(\"Hola \")\n",
        "print(\"Final\")"
      ],
      "execution_count": null,
      "outputs": []
    },
    {
      "cell_type": "markdown",
      "metadata": {
        "id": "q3KYgFNxoGFl"
      },
      "source": [
        "En los ejemplos anteriores, la variable de control \"i\" no se utilizaba en el bloque de instrucciones, pero en muchos casos sí que se utiliza. Cuando se utiliza, hay que tener en cuenta que la variable de control va tomando los valores del elemento recorrible. Por ejemplo:"
      ]
    },
    {
      "cell_type": "code",
      "metadata": {
        "id": "WzsBmvfLoGxz"
      },
      "source": [
        "print(\"Comienzo\")\n",
        "for i in [3, 4, 5]:\n",
        "    print(f\"Hola. Ahora i vale {i}\")\n",
        "print(\"Final\")"
      ],
      "execution_count": null,
      "outputs": []
    },
    {
      "cell_type": "markdown",
      "metadata": {
        "id": "e6ndGy6ToPBM"
      },
      "source": [
        "La lista puede contener cualquier tipo de elementos, no sólo números. El bucle se repetirá siempre tantas veces como elementos tenga la lista y la variable irá tomando los valores de uno en uno. Por ejemplo:"
      ]
    },
    {
      "cell_type": "code",
      "metadata": {
        "id": "BjJ1B4h8oSIj"
      },
      "source": [
        "print(\"Comienzo\")\n",
        "for i in [\"Pepito\", \"Maria\", 30]:\n",
        "    print(f\"Hola. Ahora i vale {i}\")\n",
        "print(\"Final\")"
      ],
      "execution_count": null,
      "outputs": []
    },
    {
      "cell_type": "markdown",
      "metadata": {
        "id": "gPKhCqqvoZoA"
      },
      "source": [
        "En los ejemplos anteriores se ha utilizado una lista para facilitar la comprensión del funcionamiento de los bucles pero, si es posible hacerlo, se recomienda utilizar tipos range(), entre otros motivos porque durante la ejecución del programa ocupan menos memoria en el ordenador.\n",
        "\n",
        "El siguiente programa es equivalente al programa del ejemplo anterior:"
      ]
    },
    {
      "cell_type": "code",
      "metadata": {
        "id": "6C0cGm6Fokb4"
      },
      "source": [
        "print(\"Comienzo\")\n",
        "for i in range(3):\n",
        "    print(\"Hola \")\n",
        "print(\"Final\")"
      ],
      "execution_count": null,
      "outputs": []
    }
  ]
}