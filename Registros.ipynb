{
  "nbformat": 4,
  "nbformat_minor": 0,
  "metadata": {
    "colab": {
      "name": "Registros.ipynb",
      "provenance": [],
      "authorship_tag": "ABX9TyNIZXceRto1LC3Z57DGHgig",
      "include_colab_link": true
    },
    "kernelspec": {
      "name": "python3",
      "display_name": "Python 3"
    }
  },
  "cells": [
    {
      "cell_type": "markdown",
      "metadata": {
        "id": "view-in-github",
        "colab_type": "text"
      },
      "source": [
        "<a href=\"https://colab.research.google.com/github/yamadrid/Cursos-Unipamplona/blob/main/Registros.ipynb\" target=\"_parent\"><img src=\"https://colab.research.google.com/assets/colab-badge.svg\" alt=\"Open In Colab\"/></a>"
      ]
    },
    {
      "cell_type": "markdown",
      "metadata": {
        "id": "SHd_YdSIrMl1"
      },
      "source": [
        "# Diccionarios"
      ]
    },
    {
      "cell_type": "markdown",
      "metadata": {
        "id": "epnXLyHrrO7v"
      },
      "source": [
        "Los registros o diccionarios (en Python) a diferencia de los arreglos son colecciones de datos que no dependen de un indice como valor numerico. Un Diccionario es una estructura de datos y un tipo de dato en Python con características especiales que permite almacenar cualquier tipo de valor como enteros, cadenas, listas e incluso otras funciones. Estos diccionarios permiten además identificar cada elemento por una clave (Key)."
      ]
    },
    {
      "cell_type": "markdown",
      "metadata": {
        "id": "Nngx1TSTryEU"
      },
      "source": [
        "Para definir un diccionario, se encierra el listado de valores entre llaves. Las parejas de clave y valor se separan con comas, y la clave y el valor se separan con dos puntos."
      ]
    },
    {
      "cell_type": "code",
      "metadata": {
        "id": "eYq1TJiYrKXb"
      },
      "source": [
        "diccionario = {'nombre' : 'Pepito', 'edad' : 20, 'cursos': ['Programación','Calculo','Mecánica'] }"
      ],
      "execution_count": null,
      "outputs": []
    },
    {
      "cell_type": "markdown",
      "metadata": {
        "id": "61fvTT4VsGaW"
      },
      "source": [
        "Se puede acceder al elemento de un Diccionario mediante la clave de este elemento, como veremos a continuación:"
      ]
    },
    {
      "cell_type": "code",
      "metadata": {
        "id": "Ek5w_M5hsMER"
      },
      "source": [
        "print(diccionario['nombre'])\n",
        "print(diccionario['edad'])\n",
        "print(diccionario['cursos'])"
      ],
      "execution_count": null,
      "outputs": []
    },
    {
      "cell_type": "markdown",
      "metadata": {
        "id": "VBA-HTWlsbOl"
      },
      "source": [
        "También es posible insertar una lista dentro de un diccionario. Para acceder a cada uno de los cursos usamos los índices:"
      ]
    },
    {
      "cell_type": "code",
      "metadata": {
        "id": "9sf7gmN-schY"
      },
      "source": [
        "print(diccionario['cursos'][0])\n",
        "print(diccionario['cursos'][1])\n",
        "print(diccionario['cursos'][2])"
      ],
      "execution_count": null,
      "outputs": []
    },
    {
      "cell_type": "markdown",
      "metadata": {
        "id": "Mvm73R1BskWL"
      },
      "source": [
        "Para recorrer todo el Diccionario, se puede hacer uso de la estructura for:"
      ]
    },
    {
      "cell_type": "code",
      "metadata": {
        "id": "SbcDB32zslsB"
      },
      "source": [
        "for key in diccionario:\n",
        "  print(key, \":\", diccionario[key])"
      ],
      "execution_count": null,
      "outputs": []
    },
    {
      "cell_type": "markdown",
      "metadata": {
        "id": "xs1NIfvjstzn"
      },
      "source": [
        "## Métodos de los Diccionarios"
      ]
    },
    {
      "cell_type": "markdown",
      "metadata": {
        "id": "G0NUcrHRsxuI"
      },
      "source": [
        "### dict()"
      ]
    },
    {
      "cell_type": "markdown",
      "metadata": {
        "id": "zLaHEdifs0Ve"
      },
      "source": [
        "Recibe como parámetro una representación de un diccionario y si es factible, devuelve un diccionario de datos."
      ]
    },
    {
      "cell_type": "code",
      "metadata": {
        "id": "gdftYVHQs2X1"
      },
      "source": [
        "dic =  dict(nombre='nestor', apellido='Plasencia', edad=22)\n",
        "\n",
        "print(dic)"
      ],
      "execution_count": null,
      "outputs": []
    },
    {
      "cell_type": "markdown",
      "metadata": {
        "id": "2DpFyxQSs8T1"
      },
      "source": [
        "### zip()"
      ]
    },
    {
      "cell_type": "markdown",
      "metadata": {
        "id": "BX5nJOY7s-bz"
      },
      "source": [
        "Recibe como parámetro dos elementos iterables, ya sea una cadena, una lista o una tupla. Ambos parámetros deben tener el mismo número de elementos. Se devolverá un diccionario relacionando el elemento i-esimo de cada uno de los iterables."
      ]
    },
    {
      "cell_type": "code",
      "metadata": {
        "id": "NNWsK7k7tAQ0"
      },
      "source": [
        "dic = dict(zip('abcd',[1,2,3,4]))\n",
        "\n",
        "print(dic)"
      ],
      "execution_count": null,
      "outputs": []
    },
    {
      "cell_type": "markdown",
      "metadata": {
        "id": "iTZIzdjrtEs2"
      },
      "source": [
        "### items()"
      ]
    },
    {
      "cell_type": "markdown",
      "metadata": {
        "id": "uA3u1BcrtGuG"
      },
      "source": [
        "Devuelve una lista de tuplas, cada tupla se compone de dos elementos: el primero será la clave y el segundo, su valor."
      ]
    },
    {
      "cell_type": "code",
      "metadata": {
        "id": "T4HWI1OLtIZH"
      },
      "source": [
        "dic = {'a' : 1, 'b' : 2, 'c' : 3 , 'd' : 4}\n",
        "items = dic.items()\n",
        "\n",
        "print(items)"
      ],
      "execution_count": null,
      "outputs": []
    },
    {
      "cell_type": "markdown",
      "metadata": {
        "id": "WVXzmf6_tSxt"
      },
      "source": [
        "### keys()"
      ]
    },
    {
      "cell_type": "markdown",
      "metadata": {
        "id": "icbCtUzUtTwk"
      },
      "source": [
        "Retorna una lista de elementos, los cuales serán las claves de nuestro diccionario."
      ]
    },
    {
      "cell_type": "code",
      "metadata": {
        "id": "s_XUeGtxtVZP"
      },
      "source": [
        "dic =  {'a' : 1, 'b' : 2, 'c' : 3 , 'd' : 4}\n",
        "keys= dic.keys()\n",
        "\n",
        "print(keys)"
      ],
      "execution_count": null,
      "outputs": []
    },
    {
      "cell_type": "markdown",
      "metadata": {
        "id": "iondGNMztcQq"
      },
      "source": [
        "### values()"
      ]
    },
    {
      "cell_type": "markdown",
      "metadata": {
        "id": "cAIzVY96te83"
      },
      "source": [
        "Retorna una lista de elementos, que serán los valores de nuestro diccionario."
      ]
    },
    {
      "cell_type": "code",
      "metadata": {
        "id": "qLHoGyG9tgeq"
      },
      "source": [
        "dic =  {'a' : 1, 'b' : 2, 'c' : 3 , 'd' : 4}\n",
        "values= dic.values()\n",
        "\n",
        "print(values)"
      ],
      "execution_count": null,
      "outputs": []
    },
    {
      "cell_type": "markdown",
      "metadata": {
        "id": "TiM9f70utrAB"
      },
      "source": [
        "### clear()"
      ]
    },
    {
      "cell_type": "markdown",
      "metadata": {
        "id": "aMOfV5OetsVR"
      },
      "source": [
        "Elimina todos los ítems del diccionario dejándolo vacío."
      ]
    },
    {
      "cell_type": "code",
      "metadata": {
        "id": "6OcC16TVtuxf"
      },
      "source": [
        "dic1 =  {'a' : 1, 'b' : 2, 'c' : 3 , 'd' : 4}\n",
        "dic1.clear()\n",
        "\n",
        "print(dic1)"
      ],
      "execution_count": null,
      "outputs": []
    },
    {
      "cell_type": "markdown",
      "metadata": {
        "id": "xqZFpNKYt4jn"
      },
      "source": [
        "### copy()"
      ]
    },
    {
      "cell_type": "markdown",
      "metadata": {
        "id": "Kt9zJgVZt6aP"
      },
      "source": [
        "Retorna una copia del diccionario original."
      ]
    },
    {
      "cell_type": "code",
      "metadata": {
        "id": "v4BbizOtt77O"
      },
      "source": [
        "dic = {'a' : 1, 'b' : 2, 'c' : 3 , 'd' : 4}\n",
        "dic1 = dic.copy()\n",
        "\n",
        "print(dic1)"
      ],
      "execution_count": null,
      "outputs": []
    },
    {
      "cell_type": "markdown",
      "metadata": {
        "id": "t9Un5kXfuEaS"
      },
      "source": [
        "### fromkeys()"
      ]
    },
    {
      "cell_type": "markdown",
      "metadata": {
        "id": "KKZoTSHduFZA"
      },
      "source": [
        "Recibe como parámetros un iterable y un valor, devolviendo un diccionario que contiene como claves los elementos del iterable con el mismo valor ingresado. Si el valor no es ingresado, devolverá none para todas las claves."
      ]
    },
    {
      "cell_type": "code",
      "metadata": {
        "id": "ClllI_QyuHSp"
      },
      "source": [
        "dic = dict.fromkeys(['a','b','c','d'],1)\n",
        "\n",
        "print(dic)"
      ],
      "execution_count": null,
      "outputs": []
    },
    {
      "cell_type": "markdown",
      "metadata": {
        "id": "7yiPk_O1yWLt"
      },
      "source": [
        "### get()"
      ]
    },
    {
      "cell_type": "markdown",
      "metadata": {
        "id": "cI-8bzVpyXYJ"
      },
      "source": [
        "Recibe como parámetro una clave, devuelve el valor de la clave. Si no lo encuentra, devuelve un objeto none"
      ]
    },
    {
      "cell_type": "code",
      "metadata": {
        "id": "8QjHGr1fyXJL"
      },
      "source": [
        "dic = {'a' : 1, 'b' : 2, 'c' : 3 , 'd' : 4}\n",
        "valor = dic.get('b') \n",
        "\n",
        "print(valor)"
      ],
      "execution_count": null,
      "outputs": []
    },
    {
      "cell_type": "markdown",
      "metadata": {
        "id": "tO_822EKyiKb"
      },
      "source": [
        "### pop()"
      ]
    },
    {
      "cell_type": "markdown",
      "metadata": {
        "id": "5v98eeiWykAA"
      },
      "source": [
        "Recibe como parámetro una clave, elimina esta y devuelve su valor. Si no lo encuentra, devuelve error."
      ]
    },
    {
      "cell_type": "code",
      "metadata": {
        "id": "y7-WVyyPympp"
      },
      "source": [
        "dic = {'a' : 1, 'b' : 2, 'c' : 3 , 'd' : 4}\n",
        "valor = dic.pop('b') \n",
        "\n",
        "print(valor)\n",
        "prin(dic)"
      ],
      "execution_count": null,
      "outputs": []
    },
    {
      "cell_type": "markdown",
      "metadata": {
        "id": "_Sf8Pr_Dyz-i"
      },
      "source": [
        "### setdefault()"
      ]
    },
    {
      "cell_type": "markdown",
      "metadata": {
        "id": "pgWk6td-y1Ax"
      },
      "source": [
        "Funciona de dos formas. En la primera como get"
      ]
    },
    {
      "cell_type": "code",
      "metadata": {
        "id": "Q7hX77kdy2oq"
      },
      "source": [
        "dic = {'a' : 1, 'b' : 2, 'c' : 3 , 'd' : 4}\n",
        "valor = dic.setdefault(‘a’)\n",
        "\n",
        "print(valor)"
      ],
      "execution_count": null,
      "outputs": []
    },
    {
      "cell_type": "markdown",
      "metadata": {
        "id": "9lcQyQF-zB3_"
      },
      "source": [
        "Y en la segunda forma, nos sirve para agregar un nuevo elemento a nuestro diccionario"
      ]
    },
    {
      "cell_type": "code",
      "metadata": {
        "id": "m2iU1qTNzDSS"
      },
      "source": [
        "dic = {'a' : 1, 'b' : 2, 'c' : 3 , 'd' : 4}\n",
        "valor = dic.setdefault('e',5)\n",
        "\n",
        "print(dic)"
      ],
      "execution_count": null,
      "outputs": []
    },
    {
      "cell_type": "markdown",
      "metadata": {
        "id": "MtOT0C2XzI-7"
      },
      "source": [
        "### update()"
      ]
    },
    {
      "cell_type": "markdown",
      "metadata": {
        "id": "nhIigaVFzJ8u"
      },
      "source": [
        "Recibe como parámetro otro diccionario. Si se tienen claves iguales, actualiza el valor de la clave repetida; si no hay claves iguales, este par clave-valor es agregado al diccionario."
      ]
    },
    {
      "cell_type": "code",
      "metadata": {
        "id": "5EbD9o-lzLyE"
      },
      "source": [
        "dic1 = {'a' : 1, 'b' : 2, 'c' : 3 , 'd' : 4}\n",
        "dic2 = {'c' : 6, 'b' : 5, 'e' : 9 , 'f' : 10}\n",
        "dic1.update(dic2)\n",
        "\n",
        "print(dic1)"
      ],
      "execution_count": null,
      "outputs": []
    }
  ]
}